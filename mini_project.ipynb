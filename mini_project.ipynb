{
  "cells": [
    {
      "cell_type": "code",
      "source": [
        "from keras.datasets import fashion_mnist\n",
        "from keras import optimizers\n",
        "from keras.models import *\n",
        "from keras.layers import *\n",
        "import numpy as np\n",
        "import pandas as pd"
      ],
      "metadata": {
        "id": "R7kckvaGFLLF"
      },
      "execution_count": 153,
      "outputs": []
    },
    {
      "cell_type": "code",
      "source": [
        "(x_train,y_train),(x_test,y_test) = fashion_mnist.load_data()"
      ],
      "metadata": {
        "id": "NUJMl9ukFPVS"
      },
      "execution_count": 154,
      "outputs": []
    },
    {
      "cell_type": "code",
      "source": [
        "x_train.shape"
      ],
      "metadata": {
        "colab": {
          "base_uri": "https://localhost:8080/"
        },
        "id": "ilmBd_TsFZJ-",
        "outputId": "823adfb2-a752-4e4d-85fd-9dee7906f6e4"
      },
      "execution_count": 155,
      "outputs": [
        {
          "output_type": "execute_result",
          "data": {
            "text/plain": [
              "(60000, 28, 28)"
            ]
          },
          "metadata": {},
          "execution_count": 155
        }
      ]
    },
    {
      "cell_type": "code",
      "source": [
        "x_test.shape"
      ],
      "metadata": {
        "colab": {
          "base_uri": "https://localhost:8080/"
        },
        "id": "SWPc7wIEMiRm",
        "outputId": "6f9040c4-65ce-4569-fbca-619f55bd4112"
      },
      "execution_count": 156,
      "outputs": [
        {
          "output_type": "execute_result",
          "data": {
            "text/plain": [
              "(10000, 28, 28)"
            ]
          },
          "metadata": {},
          "execution_count": 156
        }
      ]
    },
    {
      "cell_type": "code",
      "source": [
        "category_classes = [0, 1, 2, 3, 4, 5, 6, 7]\n",
        "class_names = ['T-shirt/top', 'Trouser', 'Pullover', 'Dress', 'Coat', 'Sandal', 'Shirt', 'Sneaker']\n",
        "     "
      ],
      "metadata": {
        "id": "pGYkRo1yFkRl"
      },
      "execution_count": 157,
      "outputs": []
    },
    {
      "cell_type": "code",
      "source": [
        "train_ind = np.isin(y_train, category_classes)\n",
        "test_ind = np.isin(y_test, category_classes)"
      ],
      "metadata": {
        "id": "jZBPkgz2Fopi"
      },
      "execution_count": 158,
      "outputs": []
    },
    {
      "cell_type": "code",
      "source": [
        "x_train_1 = x_train[train_ind]\n",
        "y_train_1 = y_train[train_ind]\n",
        "x_test_1 = x_test[test_ind]\n",
        "y_test_1 = y_test[test_ind]"
      ],
      "metadata": {
        "id": "NZI7Sv81Fsze"
      },
      "execution_count": 159,
      "outputs": []
    },
    {
      "cell_type": "code",
      "source": [
        "print(x_train_1.shape)\n",
        "print(y_train_1.shape)"
      ],
      "metadata": {
        "colab": {
          "base_uri": "https://localhost:8080/"
        },
        "id": "sAj9C1YaF2-V",
        "outputId": "b9e2d3bb-6fed-430e-94fc-fae6f630bc2f"
      },
      "execution_count": 160,
      "outputs": [
        {
          "output_type": "stream",
          "name": "stdout",
          "text": [
            "(48000, 28, 28)\n",
            "(48000,)\n"
          ]
        }
      ]
    },
    {
      "cell_type": "code",
      "source": [
        "x_train_1 = x_train_1.astype('float32') / 255.0\n",
        "x_test_1 = x_test_1.astype('float32') / 255.0"
      ],
      "metadata": {
        "id": "spIsz2phF7bJ"
      },
      "execution_count": 161,
      "outputs": []
    },
    {
      "cell_type": "code",
      "source": [
        "model_1 = Sequential([\n",
        "    Flatten(input_shape=(28, 28)),\n",
        "    Dense(256, activation='relu'),\n",
        "    Dense(128, activation='relu'),\n",
        "    Dense(64, activation='relu'),\n",
        "    Dense(8, activation='softmax')\n",
        "])"
      ],
      "metadata": {
        "id": "bl9gSn_jGB6q"
      },
      "execution_count": 162,
      "outputs": []
    },
    {
      "cell_type": "code",
      "source": [
        "model_1.compile(optimizer='adam',loss='sparse_categorical_crossentropy',metrics=['accuracy'])\n",
        "model_1.fit(x_train_1, y_train_1, epochs=5,verbose=0)"
      ],
      "metadata": {
        "colab": {
          "base_uri": "https://localhost:8080/"
        },
        "id": "lIZtGnnBGFpG",
        "outputId": "55fae3d3-8dc1-498a-e4d1-441946a40ae8"
      },
      "execution_count": 163,
      "outputs": [
        {
          "output_type": "execute_result",
          "data": {
            "text/plain": [
              "<keras.callbacks.History at 0x7f78af202820>"
            ]
          },
          "metadata": {},
          "execution_count": 163
        }
      ]
    },
    {
      "cell_type": "code",
      "source": [
        "loss, accuracy = model_1.evaluate(x_test_1, y_test_1)"
      ],
      "metadata": {
        "colab": {
          "base_uri": "https://localhost:8080/"
        },
        "id": "skKVEmLRGWrv",
        "outputId": "b314434a-fbbc-4089-d2d8-78f65f4027c9"
      },
      "execution_count": 164,
      "outputs": [
        {
          "output_type": "stream",
          "name": "stdout",
          "text": [
            "250/250 [==============================] - 1s 2ms/step - loss: 0.3832 - accuracy: 0.8584\n"
          ]
        }
      ]
    },
    {
      "cell_type": "code",
      "source": [
        "name_of_classes = ['T-shirt/top', 'Trouser', 'Pullover', 'Dress', 'Coat', 'Sandal', 'Shirt', 'Sneaker','Bag','Ankle boot']"
      ],
      "metadata": {
        "id": "IL8ZU-v9GfaA"
      },
      "execution_count": 165,
      "outputs": []
    },
    {
      "cell_type": "code",
      "source": [
        "class_index = [name_of_classes.index('Bag'), name_of_classes.index('Ankle boot')]"
      ],
      "metadata": {
        "id": "dH0r8AUyJ1tD"
      },
      "execution_count": 166,
      "outputs": []
    },
    {
      "cell_type": "code",
      "source": [
        "x_train_2 = x_train[(y_train == class_index[0]) | (y_train == class_index[1])]\n",
        "y_train_2 = y_train[(y_train == class_index[0]) | (y_train == class_index[1])]"
      ],
      "metadata": {
        "id": "taR6jcigJ-Jm"
      },
      "execution_count": 167,
      "outputs": []
    },
    {
      "cell_type": "code",
      "source": [
        "x_test_2 = x_test[(y_test == class_index[0]) | (y_test == class_index[1])]\n",
        "y_test_2 = y_test[(y_test == class_index[0]) | (y_test == class_index[1])]"
      ],
      "metadata": {
        "id": "9kX6hIXZKKTm"
      },
      "execution_count": 168,
      "outputs": []
    },
    {
      "cell_type": "code",
      "source": [
        "y_train_2 = (y_train_2 == class_index[1]).astype(int)\n",
        "y_test_2 = (y_test_2 == class_index[1]).astype(int)"
      ],
      "metadata": {
        "id": "a8dwvEP3KQwl"
      },
      "execution_count": 169,
      "outputs": []
    },
    {
      "cell_type": "code",
      "source": [
        "model_2_on_1 = Sequential(model_1.layers[:-1])"
      ],
      "metadata": {
        "id": "cFu0t02sKY0Z"
      },
      "execution_count": 170,
      "outputs": []
    },
    {
      "cell_type": "code",
      "source": [
        "\n",
        "model_2_on_1.add(Dense(1, activation=\"sigmoid\"))"
      ],
      "metadata": {
        "id": "BBLVYPcMK0wv"
      },
      "execution_count": 171,
      "outputs": []
    },
    {
      "cell_type": "code",
      "source": [
        "for layer in model_2_on_1.layers[:-1]:\n",
        " layer.trainable = False"
      ],
      "metadata": {
        "id": "OawNY9xCK4C-"
      },
      "execution_count": 172,
      "outputs": []
    },
    {
      "cell_type": "code",
      "source": [
        "model_2_on_1.compile(loss=\"binary_crossentropy\", optimizer=\"sgd\",\n",
        " metrics=[\"accuracy\"])"
      ],
      "metadata": {
        "id": "iQ8CsTQOK85g"
      },
      "execution_count": 173,
      "outputs": []
    },
    {
      "cell_type": "code",
      "source": [
        "model_2_on_1.fit(x_train_2, y_train_2, epochs=5,verbose=0)"
      ],
      "metadata": {
        "colab": {
          "base_uri": "https://localhost:8080/"
        },
        "id": "CkNYtD5JLAdW",
        "outputId": "229fbb72-2864-4a0a-867e-fd2616c9fac4"
      },
      "execution_count": 174,
      "outputs": [
        {
          "output_type": "execute_result",
          "data": {
            "text/plain": [
              "<keras.callbacks.History at 0x7f78af1a2130>"
            ]
          },
          "metadata": {},
          "execution_count": 174
        }
      ]
    },
    {
      "cell_type": "code",
      "source": [
        "for layer in model_2_on_1.layers[:-1]:\n",
        " layer.trainable = True"
      ],
      "metadata": {
        "id": "0VkjqBt_LNU0"
      },
      "execution_count": 175,
      "outputs": []
    },
    {
      "cell_type": "code",
      "source": [
        "optimizer = optimizers.SGD(lr=1e-5)\n",
        "model_2_on_1.compile(loss=\"binary_crossentropy\", optimizer=optimizer,metrics=[\"accuracy\"])\n",
        "model_2_on_1.fit(x_train_2, y_train_2, epochs=16,verbose=0)"
      ],
      "metadata": {
        "colab": {
          "base_uri": "https://localhost:8080/"
        },
        "id": "rQTq-xzALYSD",
        "outputId": "e04acfc9-9c27-46ba-e787-adb0bf5229e2"
      },
      "execution_count": 176,
      "outputs": [
        {
          "output_type": "stream",
          "name": "stderr",
          "text": [
            "/usr/local/lib/python3.9/dist-packages/keras/optimizers/optimizer_v2/gradient_descent.py:114: UserWarning: The `lr` argument is deprecated, use `learning_rate` instead.\n",
            "  super().__init__(name, **kwargs)\n"
          ]
        },
        {
          "output_type": "execute_result",
          "data": {
            "text/plain": [
              "<keras.callbacks.History at 0x7f78af04f130>"
            ]
          },
          "metadata": {},
          "execution_count": 176
        }
      ]
    },
    {
      "cell_type": "code",
      "source": [
        "loss, accuracy = model_2_on_1.evaluate(x_test_2, y_test_2)"
      ],
      "metadata": {
        "colab": {
          "base_uri": "https://localhost:8080/"
        },
        "id": "U8U8enINLr5z",
        "outputId": "85d8fada-6615-43ef-f0f6-3e4c24f8d3f4"
      },
      "execution_count": 177,
      "outputs": [
        {
          "output_type": "stream",
          "name": "stdout",
          "text": [
            "63/63 [==============================] - 0s 2ms/step - loss: 14.0086 - accuracy: 0.9940\n"
          ]
        }
      ]
    }
  ],
  "metadata": {
    "colab": {
      "provenance": []
    },
    "kernelspec": {
      "display_name": "Python 3",
      "name": "python3"
    },
    "language_info": {
      "name": "python"
    }
  },
  "nbformat": 4,
  "nbformat_minor": 0
}