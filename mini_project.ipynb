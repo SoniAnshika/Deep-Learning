{
  "cells": [
    {
      "cell_type": "code",
      "source": [
        "from keras.datasets import fashion_mnist\n",
        "from keras import optimizers\n",
        "from keras.models import *\n",
        "from keras.layers import *\n",
        "import numpy as np\n",
        "import pandas as pd"
      ],
      "metadata": {
        "id": "R7kckvaGFLLF"
      },
      "execution_count": 178,
      "outputs": []
    },
    {
      "cell_type": "code",
      "source": [
        "(x_train,y_train),(x_test,y_test) = fashion_mnist.load_data()"
      ],
      "metadata": {
        "id": "NUJMl9ukFPVS"
      },
      "execution_count": 179,
      "outputs": []
    },
    {
      "cell_type": "code",
      "source": [
        "x_train.shape"
      ],
      "metadata": {
        "colab": {
          "base_uri": "https://localhost:8080/"
        },
        "id": "ilmBd_TsFZJ-",
        "outputId": "78a60535-6401-49ec-adfb-746eab33baab"
      },
      "execution_count": 180,
      "outputs": [
        {
          "output_type": "execute_result",
          "data": {
            "text/plain": [
              "(60000, 28, 28)"
            ]
          },
          "metadata": {},
          "execution_count": 180
        }
      ]
    },
    {
      "cell_type": "code",
      "source": [
        "x_test.shape"
      ],
      "metadata": {
        "colab": {
          "base_uri": "https://localhost:8080/"
        },
        "id": "SWPc7wIEMiRm",
        "outputId": "c6459b7c-ce57-4b78-fb59-13977f5edd20"
      },
      "execution_count": 181,
      "outputs": [
        {
          "output_type": "execute_result",
          "data": {
            "text/plain": [
              "(10000, 28, 28)"
            ]
          },
          "metadata": {},
          "execution_count": 181
        }
      ]
    },
    {
      "cell_type": "code",
      "source": [
        "category_classes = [0, 1, 2, 3, 4, 5, 6, 7]\n",
        "class_names = ['T-shirt/top', 'Trouser', 'Pullover', 'Dress', 'Coat', 'Sandal', 'Shirt', 'Sneaker']\n",
        "     "
      ],
      "metadata": {
        "id": "pGYkRo1yFkRl"
      },
      "execution_count": 182,
      "outputs": []
    },
    {
      "cell_type": "code",
      "source": [
        "train_ind = np.isin(y_train, category_classes)\n",
        "test_ind = np.isin(y_test, category_classes)"
      ],
      "metadata": {
        "id": "jZBPkgz2Fopi"
      },
      "execution_count": 183,
      "outputs": []
    },
    {
      "cell_type": "code",
      "source": [
        "x_train_1 = x_train[train_ind]\n",
        "y_train_1 = y_train[train_ind]\n",
        "x_test_1 = x_test[test_ind]\n",
        "y_test_1 = y_test[test_ind]"
      ],
      "metadata": {
        "id": "NZI7Sv81Fsze"
      },
      "execution_count": 184,
      "outputs": []
    },
    {
      "cell_type": "code",
      "source": [
        "print(x_train_1.shape)\n",
        "print(y_train_1.shape)"
      ],
      "metadata": {
        "colab": {
          "base_uri": "https://localhost:8080/"
        },
        "id": "sAj9C1YaF2-V",
        "outputId": "54207d91-3cfd-45f6-a6e5-038c6c0e6383"
      },
      "execution_count": 185,
      "outputs": [
        {
          "output_type": "stream",
          "name": "stdout",
          "text": [
            "(48000, 28, 28)\n",
            "(48000,)\n"
          ]
        }
      ]
    },
    {
      "cell_type": "code",
      "source": [
        "x_train_1 = x_train_1.astype('float32') / 255.0\n",
        "x_test_1 = x_test_1.astype('float32') / 255.0"
      ],
      "metadata": {
        "id": "spIsz2phF7bJ"
      },
      "execution_count": 186,
      "outputs": []
    },
    {
      "cell_type": "code",
      "source": [
        "model_1 = Sequential([\n",
        "    Flatten(input_shape=(28, 28)),\n",
        "    Dense(256, activation='relu'),\n",
        "    Dense(128, activation='relu'),\n",
        "    Dense(64, activation='relu'),\n",
        "    Dense(8, activation='softmax')\n",
        "])"
      ],
      "metadata": {
        "id": "bl9gSn_jGB6q"
      },
      "execution_count": 187,
      "outputs": []
    },
    {
      "cell_type": "code",
      "source": [
        "model_1.compile(optimizer='adam',loss='sparse_categorical_crossentropy',metrics=['accuracy'])\n",
        "model_1.fit(x_train_1, y_train_1, epochs=5,verbose=0)"
      ],
      "metadata": {
        "colab": {
          "base_uri": "https://localhost:8080/"
        },
        "id": "lIZtGnnBGFpG",
        "outputId": "48d4f2be-9de6-4d3c-deba-860ef3e0489d"
      },
      "execution_count": 188,
      "outputs": [
        {
          "output_type": "execute_result",
          "data": {
            "text/plain": [
              "<keras.callbacks.History at 0x7f78a962ba30>"
            ]
          },
          "metadata": {},
          "execution_count": 188
        }
      ]
    },
    {
      "cell_type": "code",
      "source": [
        "loss, accuracy = model_1.evaluate(x_test_1, y_test_1)"
      ],
      "metadata": {
        "colab": {
          "base_uri": "https://localhost:8080/"
        },
        "id": "skKVEmLRGWrv",
        "outputId": "c73391cb-cb63-4560-a70b-68ec93f619ee"
      },
      "execution_count": 189,
      "outputs": [
        {
          "output_type": "stream",
          "name": "stdout",
          "text": [
            "250/250 [==============================] - 1s 2ms/step - loss: 0.3674 - accuracy: 0.8664\n"
          ]
        }
      ]
    },
    {
      "cell_type": "code",
      "source": [
        "name_of_classes = ['T-shirt/top', 'Trouser', 'Pullover', 'Dress', 'Coat', 'Sandal', 'Shirt', 'Sneaker','Bag','Ankle boot']"
      ],
      "metadata": {
        "id": "IL8ZU-v9GfaA"
      },
      "execution_count": 190,
      "outputs": []
    },
    {
      "cell_type": "code",
      "source": [
        "class_index = [name_of_classes.index('Bag'), name_of_classes.index('Ankle boot')]"
      ],
      "metadata": {
        "id": "dH0r8AUyJ1tD"
      },
      "execution_count": 191,
      "outputs": []
    },
    {
      "cell_type": "code",
      "source": [
        "x_train_2 = x_train[(y_train == class_index[0]) | (y_train == class_index[1])]\n",
        "y_train_2 = y_train[(y_train == class_index[0]) | (y_train == class_index[1])]"
      ],
      "metadata": {
        "id": "taR6jcigJ-Jm"
      },
      "execution_count": 192,
      "outputs": []
    },
    {
      "cell_type": "code",
      "source": [
        "x_test_2 = x_test[(y_test == class_index[0]) | (y_test == class_index[1])]\n",
        "y_test_2 = y_test[(y_test == class_index[0]) | (y_test == class_index[1])]"
      ],
      "metadata": {
        "id": "9kX6hIXZKKTm"
      },
      "execution_count": 193,
      "outputs": []
    },
    {
      "cell_type": "code",
      "source": [
        "y_train_2 = (y_train_2 == class_index[1]).astype(int)\n",
        "y_test_2 = (y_test_2 == class_index[1]).astype(int)"
      ],
      "metadata": {
        "id": "a8dwvEP3KQwl"
      },
      "execution_count": 194,
      "outputs": []
    },
    {
      "cell_type": "code",
      "source": [
        "model_2_on_1 = Sequential(model_1.layers[:-1])"
      ],
      "metadata": {
        "id": "cFu0t02sKY0Z"
      },
      "execution_count": 195,
      "outputs": []
    },
    {
      "cell_type": "code",
      "source": [
        "\n",
        "model_2_on_1.add(Dense(1, activation=\"sigmoid\"))"
      ],
      "metadata": {
        "id": "BBLVYPcMK0wv"
      },
      "execution_count": 196,
      "outputs": []
    },
    {
      "cell_type": "code",
      "source": [
        "for layer in model_2_on_1.layers[:-1]:\n",
        " layer.trainable = False"
      ],
      "metadata": {
        "id": "OawNY9xCK4C-"
      },
      "execution_count": 197,
      "outputs": []
    },
    {
      "cell_type": "code",
      "source": [
        "model_2_on_1.compile(loss=\"binary_crossentropy\", optimizer=\"sgd\",\n",
        " metrics=[\"accuracy\"])"
      ],
      "metadata": {
        "id": "iQ8CsTQOK85g"
      },
      "execution_count": 198,
      "outputs": []
    },
    {
      "cell_type": "code",
      "source": [
        "model_2_on_1.fit(x_train_2, y_train_2, epochs=5,verbose=0)"
      ],
      "metadata": {
        "colab": {
          "base_uri": "https://localhost:8080/"
        },
        "id": "CkNYtD5JLAdW",
        "outputId": "c053f671-004b-4f5e-e66a-2745da8fc775"
      },
      "execution_count": 199,
      "outputs": [
        {
          "output_type": "execute_result",
          "data": {
            "text/plain": [
              "<keras.callbacks.History at 0x7f78a8c4e3d0>"
            ]
          },
          "metadata": {},
          "execution_count": 199
        }
      ]
    },
    {
      "cell_type": "code",
      "source": [
        "for layer in model_2_on_1.layers[:-1]:\n",
        " layer.trainable = True"
      ],
      "metadata": {
        "id": "0VkjqBt_LNU0"
      },
      "execution_count": 200,
      "outputs": []
    },
    {
      "cell_type": "code",
      "source": [
        "optimizer = optimizers.SGD(learning_rate=1e-5)\n",
        "model_2_on_1.compile(loss=\"binary_crossentropy\", optimizer=optimizer,metrics=[\"accuracy\"])\n",
        "model_2_on_1.fit(x_train_2, y_train_2, epochs=16,verbose=0)"
      ],
      "metadata": {
        "colab": {
          "base_uri": "https://localhost:8080/"
        },
        "id": "rQTq-xzALYSD",
        "outputId": "febbcf57-77a0-4f17-e708-dc5b6df39dca"
      },
      "execution_count": 201,
      "outputs": [
        {
          "output_type": "execute_result",
          "data": {
            "text/plain": [
              "<keras.callbacks.History at 0x7f78af010c70>"
            ]
          },
          "metadata": {},
          "execution_count": 201
        }
      ]
    },
    {
      "cell_type": "code",
      "source": [
        "loss, accuracy = model_2_on_1.evaluate(x_test_2, y_test_2)"
      ],
      "metadata": {
        "colab": {
          "base_uri": "https://localhost:8080/"
        },
        "id": "U8U8enINLr5z",
        "outputId": "968c9368-2589-42c5-fe9f-eaeaeb1a8cb4"
      },
      "execution_count": 202,
      "outputs": [
        {
          "output_type": "stream",
          "name": "stdout",
          "text": [
            "63/63 [==============================] - 0s 2ms/step - loss: 15.8323 - accuracy: 0.9960\n"
          ]
        }
      ]
    }
  ],
  "metadata": {
    "colab": {
      "provenance": []
    },
    "kernelspec": {
      "display_name": "Python 3",
      "name": "python3"
    },
    "language_info": {
      "name": "python"
    }
  },
  "nbformat": 4,
  "nbformat_minor": 0
}