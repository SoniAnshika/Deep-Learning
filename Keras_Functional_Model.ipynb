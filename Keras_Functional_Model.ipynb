{
  "nbformat": 4,
  "nbformat_minor": 0,
  "metadata": {
    "colab": {
      "provenance": []
    },
    "kernelspec": {
      "name": "python3",
      "display_name": "Python 3"
    },
    "language_info": {
      "name": "python"
    }
  },
  "cells": [
    {
      "cell_type": "code",
      "execution_count": 28,
      "metadata": {
        "colab": {
          "base_uri": "https://localhost:8080/"
        },
        "id": "nOUbdMR00kh2",
        "outputId": "d8f674ff-272b-46c3-d2a4-2ad9b26785fb"
      },
      "outputs": [
        {
          "output_type": "stream",
          "name": "stdout",
          "text": [
            "Model: \"model_1\"\n",
            "__________________________________________________________________________________________________\n",
            " Layer (type)                   Output Shape         Param #     Connected to                     \n",
            "==================================================================================================\n",
            " input_2 (InputLayer)           [(None, 2)]          0           []                               \n",
            "                                                                                                  \n",
            " dense_4 (Dense)                (None, 2)            6           ['input_2[0][0]']                \n",
            "                                                                                                  \n",
            " dense_5 (Dense)                (None, 2)            6           ['input_2[0][0]']                \n",
            "                                                                                                  \n",
            " concatenate_1 (Concatenate)    (None, 4)            0           ['dense_4[0][0]',                \n",
            "                                                                  'dense_5[0][0]']                \n",
            "                                                                                                  \n",
            " dense_6 (Dense)                (None, 2)            10          ['concatenate_1[0][0]']          \n",
            "                                                                                                  \n",
            " dense_7 (Dense)                (None, 1)            3           ['dense_6[0][0]']                \n",
            "                                                                                                  \n",
            "==================================================================================================\n",
            "Total params: 25\n",
            "Trainable params: 25\n",
            "Non-trainable params: 0\n",
            "__________________________________________________________________________________________________\n"
          ]
        }
      ],
      "source": [
        "#Neuron Neuron Architecture Functional API\n",
        "from keras.models import Model \n",
        "from keras.layers import * \n",
        "import keras\n",
        "import tensorflow as tf\n",
        "tf.random.set_seed(34)\n",
        "#from keras.layers import Input\n",
        "#from keras.layers import concatenate\n",
        "#from keras.layers import Dense\n",
        "\n",
        "inputs=Input(shape=(2,))\n",
        "h1_1=Dense(units=2,activation='relu')(inputs)\n",
        "h1_2=Dense(units=2,activation='relu')(inputs)\n",
        "c=concatenate([h1_1,h1_2])\n",
        "h2=Dense(units=2,activation='relu')(c)\n",
        "o=Dense(units=1,activation='sigmoid')(h2)\n",
        "functional_model=Model(inputs,o)\n",
        "functional_model.summary()"
      ]
    },
    {
      "cell_type": "code",
      "source": [
        "#Weights and Bias when only inputs are given without training the model\n",
        "functional_model.layers[0].get_weights()"
      ],
      "metadata": {
        "colab": {
          "base_uri": "https://localhost:8080/"
        },
        "id": "AZEJqCcP4G8m",
        "outputId": "b4fd8790-3bad-4831-c44b-7b646639bbb9"
      },
      "execution_count": 29,
      "outputs": [
        {
          "output_type": "execute_result",
          "data": {
            "text/plain": [
              "[]"
            ]
          },
          "metadata": {},
          "execution_count": 29
        }
      ]
    },
    {
      "cell_type": "code",
      "source": [
        "#Weights and Bias of first hidden layer without training the model\n",
        "functional_model.layers[1].get_weights()"
      ],
      "metadata": {
        "colab": {
          "base_uri": "https://localhost:8080/"
        },
        "id": "lBwJutiv4tKX",
        "outputId": "5c5e9e36-4790-4403-c361-953352d84c2b"
      },
      "execution_count": 30,
      "outputs": [
        {
          "output_type": "execute_result",
          "data": {
            "text/plain": [
              "[array([[-0.6217317 ,  1.1573931 ],\n",
              "        [ 0.23766792,  0.6021912 ]], dtype=float32),\n",
              " array([0., 0.], dtype=float32)]"
            ]
          },
          "metadata": {},
          "execution_count": 30
        }
      ]
    },
    {
      "cell_type": "code",
      "source": [
        "#Weights and Bias of Output layer without training the model\n",
        "functional_model.layers[-1].get_weights()"
      ],
      "metadata": {
        "colab": {
          "base_uri": "https://localhost:8080/"
        },
        "id": "j3hi9uYf3vU3",
        "outputId": "785e3680-a36f-4e4b-d396-d1fd04e46819"
      },
      "execution_count": 31,
      "outputs": [
        {
          "output_type": "execute_result",
          "data": {
            "text/plain": [
              "[array([[-0.72977906],\n",
              "        [-0.73399884]], dtype=float32), array([0.], dtype=float32)]"
            ]
          },
          "metadata": {},
          "execution_count": 31
        }
      ]
    },
    {
      "cell_type": "code",
      "source": [
        "#To set weights to whole model\n",
        "#model.set_weights(given_weights)"
      ],
      "metadata": {
        "id": "wnHOtOK04270"
      },
      "execution_count": 32,
      "outputs": []
    },
    {
      "cell_type": "code",
      "source": [
        "#OR Gate\n",
        "import numpy as np\n",
        "x=np.array([[0,0],[0,1],[1,0],[1,1]])\n",
        "y=np.array([[0],[1],[1],[1]])"
      ],
      "metadata": {
        "id": "_P7pDn4v1MKq"
      },
      "execution_count": 33,
      "outputs": []
    },
    {
      "cell_type": "code",
      "source": [
        "functional_model.compile(optimizer='sgd',loss='binary_crossentropy',metrics=['accuracy'])"
      ],
      "metadata": {
        "id": "nZT8W3K61Pb9"
      },
      "execution_count": 34,
      "outputs": []
    },
    {
      "cell_type": "code",
      "source": [
        "functional_model.fit(x,y,epochs=10,verbose=1)"
      ],
      "metadata": {
        "colab": {
          "base_uri": "https://localhost:8080/"
        },
        "id": "DqwZphGU1lzE",
        "outputId": "29835637-8351-4c11-f994-0ddf1d8ca895"
      },
      "execution_count": 35,
      "outputs": [
        {
          "output_type": "stream",
          "name": "stdout",
          "text": [
            "Epoch 1/10\n",
            "1/1 [==============================] - 1s 946ms/step - loss: 1.0075 - accuracy: 0.2500\n",
            "Epoch 2/10\n",
            "1/1 [==============================] - 0s 10ms/step - loss: 0.9973 - accuracy: 0.0000e+00\n",
            "Epoch 3/10\n",
            "1/1 [==============================] - 0s 11ms/step - loss: 0.9882 - accuracy: 0.0000e+00\n",
            "Epoch 4/10\n",
            "1/1 [==============================] - 0s 12ms/step - loss: 0.9794 - accuracy: 0.0000e+00\n",
            "Epoch 5/10\n",
            "1/1 [==============================] - 0s 11ms/step - loss: 0.9709 - accuracy: 0.0000e+00\n",
            "Epoch 6/10\n",
            "1/1 [==============================] - 0s 11ms/step - loss: 0.9626 - accuracy: 0.0000e+00\n",
            "Epoch 7/10\n",
            "1/1 [==============================] - 0s 12ms/step - loss: 0.9546 - accuracy: 0.0000e+00\n",
            "Epoch 8/10\n",
            "1/1 [==============================] - 0s 12ms/step - loss: 0.9469 - accuracy: 0.0000e+00\n",
            "Epoch 9/10\n",
            "1/1 [==============================] - 0s 13ms/step - loss: 0.9393 - accuracy: 0.0000e+00\n",
            "Epoch 10/10\n",
            "1/1 [==============================] - 0s 12ms/step - loss: 0.9320 - accuracy: 0.0000e+00\n"
          ]
        },
        {
          "output_type": "execute_result",
          "data": {
            "text/plain": [
              "<keras.callbacks.History at 0x7f010dac8430>"
            ]
          },
          "metadata": {},
          "execution_count": 35
        }
      ]
    },
    {
      "cell_type": "code",
      "source": [
        "loss,accuracy=functional_model.evaluate(x,y)"
      ],
      "metadata": {
        "colab": {
          "base_uri": "https://localhost:8080/"
        },
        "id": "L9QZxuyU1q7F",
        "outputId": "22897936-f414-45b4-c9b2-7e65eb0829e4"
      },
      "execution_count": 36,
      "outputs": [
        {
          "output_type": "stream",
          "name": "stdout",
          "text": [
            "1/1 [==============================] - 0s 152ms/step - loss: 0.9249 - accuracy: 0.0000e+00\n"
          ]
        }
      ]
    },
    {
      "cell_type": "code",
      "source": [
        "pred=functional_model.predict(x)\n",
        "pred"
      ],
      "metadata": {
        "colab": {
          "base_uri": "https://localhost:8080/"
        },
        "id": "yGdA3njf1tfx",
        "outputId": "c6c8078f-999f-4e00-91a6-0495179cade5"
      },
      "execution_count": 37,
      "outputs": [
        {
          "output_type": "stream",
          "name": "stdout",
          "text": [
            "1/1 [==============================] - 0s 62ms/step\n"
          ]
        },
        {
          "output_type": "execute_result",
          "data": {
            "text/plain": [
              "array([[0.50902915],\n",
              "       [0.4099942 ],\n",
              "       [0.3846992 ],\n",
              "       [0.319349  ]], dtype=float32)"
            ]
          },
          "metadata": {},
          "execution_count": 37
        }
      ]
    },
    {
      "cell_type": "code",
      "source": [
        "functional_model.layers"
      ],
      "metadata": {
        "colab": {
          "base_uri": "https://localhost:8080/"
        },
        "id": "Y69z60bY1v8H",
        "outputId": "3f1467a4-a5aa-40eb-9df8-50c5f306f210"
      },
      "execution_count": 38,
      "outputs": [
        {
          "output_type": "execute_result",
          "data": {
            "text/plain": [
              "[<keras.engine.input_layer.InputLayer at 0x7f019c3f0310>,\n",
              " <keras.layers.core.dense.Dense at 0x7f019c4011c0>,\n",
              " <keras.layers.core.dense.Dense at 0x7f010db16490>,\n",
              " <keras.layers.merging.concatenate.Concatenate at 0x7f010d25f580>,\n",
              " <keras.layers.core.dense.Dense at 0x7f010d2ea910>,\n",
              " <keras.layers.core.dense.Dense at 0x7f010dab6c10>]"
            ]
          },
          "metadata": {},
          "execution_count": 38
        }
      ]
    },
    {
      "cell_type": "code",
      "source": [
        "hidden1=functional_model.layers[1]\n",
        "weights,biases=hidden1.get_weights()"
      ],
      "metadata": {
        "id": "RovA34y21y_r"
      },
      "execution_count": 39,
      "outputs": []
    },
    {
      "cell_type": "code",
      "source": [
        "weights"
      ],
      "metadata": {
        "colab": {
          "base_uri": "https://localhost:8080/"
        },
        "id": "Pf3pZdfk1zyr",
        "outputId": "8e43571e-9d18-48bf-8e3b-dcfd313a42b7"
      },
      "execution_count": 40,
      "outputs": [
        {
          "output_type": "execute_result",
          "data": {
            "text/plain": [
              "array([[-0.6217317 ,  1.1480316 ],\n",
              "       [ 0.22847134,  0.59302354]], dtype=float32)"
            ]
          },
          "metadata": {},
          "execution_count": 40
        }
      ]
    },
    {
      "cell_type": "code",
      "source": [
        "biases"
      ],
      "metadata": {
        "colab": {
          "base_uri": "https://localhost:8080/"
        },
        "id": "ZHZFRNOY139L",
        "outputId": "a27f53d6-c61e-4f3b-e1d1-064cbc11d38d"
      },
      "execution_count": 41,
      "outputs": [
        {
          "output_type": "execute_result",
          "data": {
            "text/plain": [
              "array([-0.00919659, -0.01360327], dtype=float32)"
            ]
          },
          "metadata": {},
          "execution_count": 41
        }
      ]
    },
    {
      "cell_type": "code",
      "source": [
        "hiddenO=functional_model.layers[-1]\n",
        "weights,biases=hiddenO.get_weights()"
      ],
      "metadata": {
        "id": "lkXmBg7j14qm"
      },
      "execution_count": 42,
      "outputs": []
    },
    {
      "cell_type": "code",
      "source": [
        "weights"
      ],
      "metadata": {
        "colab": {
          "base_uri": "https://localhost:8080/"
        },
        "id": "hErdoKWd17vR",
        "outputId": "e11495fc-68a6-4fd6-f293-f2de2f4b6825"
      },
      "execution_count": 43,
      "outputs": [
        {
          "output_type": "execute_result",
          "data": {
            "text/plain": [
              "array([[-0.6849982 ],\n",
              "       [-0.73399884]], dtype=float32)"
            ]
          },
          "metadata": {},
          "execution_count": 43
        }
      ]
    },
    {
      "cell_type": "code",
      "source": [
        "biases"
      ],
      "metadata": {
        "colab": {
          "base_uri": "https://localhost:8080/"
        },
        "id": "QN3qUc0J1-hJ",
        "outputId": "0794fcd2-f065-48d7-898a-23b2a21d4d25"
      },
      "execution_count": 44,
      "outputs": [
        {
          "output_type": "execute_result",
          "data": {
            "text/plain": [
              "array([0.03612061], dtype=float32)"
            ]
          },
          "metadata": {},
          "execution_count": 44
        }
      ]
    },
    {
      "cell_type": "code",
      "source": [
        "#To get the weights and bias of all the layers\n",
        "functional_model.get_weights()"
      ],
      "metadata": {
        "colab": {
          "base_uri": "https://localhost:8080/"
        },
        "id": "yB9I1K9r2Az7",
        "outputId": "3a09d576-db0b-46cc-d856-e342a366281f"
      },
      "execution_count": 45,
      "outputs": [
        {
          "output_type": "execute_result",
          "data": {
            "text/plain": [
              "[array([[-0.6217317 ,  1.1480316 ],\n",
              "        [ 0.22847134,  0.59302354]], dtype=float32),\n",
              " array([-0.00919659, -0.01360327], dtype=float32),\n",
              " array([[ 0.44614547, -0.05070319],\n",
              "        [-0.00640893,  0.8945204 ]], dtype=float32),\n",
              " array([-0.02075015, -0.00593562], dtype=float32),\n",
              " array([[ 0.8523089 , -0.1985023 ],\n",
              "        [ 0.37121844, -0.568125  ],\n",
              "        [ 0.82694674, -0.76446366],\n",
              "        [ 0.2438368 , -0.27429986]], dtype=float32),\n",
              " array([-0.0345474,  0.       ], dtype=float32),\n",
              " array([[-0.6849982 ],\n",
              "        [-0.73399884]], dtype=float32),\n",
              " array([0.03612061], dtype=float32)]"
            ]
          },
          "metadata": {},
          "execution_count": 45
        }
      ]
    },
    {
      "cell_type": "code",
      "source": [
        "#Storing all the weights and bias in list\n",
        "l=functional_model.get_weights()"
      ],
      "metadata": {
        "id": "-8lob2T-2DQX"
      },
      "execution_count": 46,
      "outputs": []
    },
    {
      "cell_type": "code",
      "source": [
        "#Increasing the value of weights and bias by 0.5 in the list l\n",
        "for i in range(len(l)):\n",
        "  for j in range(len(l[i])):\n",
        "    l[i][j]=l[i][j]+0.5\n",
        "l"
      ],
      "metadata": {
        "colab": {
          "base_uri": "https://localhost:8080/"
        },
        "id": "IPbGpbNF4agU",
        "outputId": "d883dae3-799a-4a8b-8980-6cdb04836564"
      },
      "execution_count": 47,
      "outputs": [
        {
          "output_type": "execute_result",
          "data": {
            "text/plain": [
              "[array([[-0.1217317 ,  1.6480316 ],\n",
              "        [ 0.72847134,  1.0930235 ]], dtype=float32),\n",
              " array([0.49080342, 0.48639673], dtype=float32),\n",
              " array([[0.9461455 , 0.4492968 ],\n",
              "        [0.49359107, 1.3945204 ]], dtype=float32),\n",
              " array([0.47924984, 0.4940644 ], dtype=float32),\n",
              " array([[ 1.352309  ,  0.3014977 ],\n",
              "        [ 0.87121844, -0.06812501],\n",
              "        [ 1.3269467 , -0.26446366],\n",
              "        [ 0.7438368 ,  0.22570014]], dtype=float32),\n",
              " array([0.4654526, 0.5      ], dtype=float32),\n",
              " array([[-0.18499821],\n",
              "        [-0.23399884]], dtype=float32),\n",
              " array([0.5361206], dtype=float32)]"
            ]
          },
          "metadata": {},
          "execution_count": 47
        }
      ]
    },
    {
      "cell_type": "code",
      "source": [
        "#Current Assigned Weights and bias to the functional model\n",
        "functional_model.get_weights()"
      ],
      "metadata": {
        "colab": {
          "base_uri": "https://localhost:8080/"
        },
        "id": "DVDa55AM46X1",
        "outputId": "d3885141-a6fb-41f6-bf7a-2db8228db3df"
      },
      "execution_count": 48,
      "outputs": [
        {
          "output_type": "execute_result",
          "data": {
            "text/plain": [
              "[array([[-0.6217317 ,  1.1480316 ],\n",
              "        [ 0.22847134,  0.59302354]], dtype=float32),\n",
              " array([-0.00919659, -0.01360327], dtype=float32),\n",
              " array([[ 0.44614547, -0.05070319],\n",
              "        [-0.00640893,  0.8945204 ]], dtype=float32),\n",
              " array([-0.02075015, -0.00593562], dtype=float32),\n",
              " array([[ 0.8523089 , -0.1985023 ],\n",
              "        [ 0.37121844, -0.568125  ],\n",
              "        [ 0.82694674, -0.76446366],\n",
              "        [ 0.2438368 , -0.27429986]], dtype=float32),\n",
              " array([-0.0345474,  0.       ], dtype=float32),\n",
              " array([[-0.6849982 ],\n",
              "        [-0.73399884]], dtype=float32),\n",
              " array([0.03612061], dtype=float32)]"
            ]
          },
          "metadata": {},
          "execution_count": 48
        }
      ]
    },
    {
      "cell_type": "code",
      "source": [
        "#Setting new weights and bias to the functional model\n",
        "functional_model.set_weights(l)"
      ],
      "metadata": {
        "id": "9MwuKeqL5I_7"
      },
      "execution_count": 49,
      "outputs": []
    },
    {
      "cell_type": "code",
      "source": [
        "#New Weights and bias of the functional model\n",
        "functional_model.get_weights()"
      ],
      "metadata": {
        "colab": {
          "base_uri": "https://localhost:8080/"
        },
        "id": "KU8F4vc95TrH",
        "outputId": "ebf06e33-4b84-4b2d-9023-a14a38563c4d"
      },
      "execution_count": 50,
      "outputs": [
        {
          "output_type": "execute_result",
          "data": {
            "text/plain": [
              "[array([[-0.1217317 ,  1.6480316 ],\n",
              "        [ 0.72847134,  1.0930235 ]], dtype=float32),\n",
              " array([0.49080342, 0.48639673], dtype=float32),\n",
              " array([[0.9461455 , 0.4492968 ],\n",
              "        [0.49359107, 1.3945204 ]], dtype=float32),\n",
              " array([0.47924984, 0.4940644 ], dtype=float32),\n",
              " array([[ 1.352309  ,  0.3014977 ],\n",
              "        [ 0.87121844, -0.06812501],\n",
              "        [ 1.3269467 , -0.26446366],\n",
              "        [ 0.7438368 ,  0.22570014]], dtype=float32),\n",
              " array([0.4654526, 0.5      ], dtype=float32),\n",
              " array([[-0.18499821],\n",
              "        [-0.23399884]], dtype=float32),\n",
              " array([0.5361206], dtype=float32)]"
            ]
          },
          "metadata": {},
          "execution_count": 50
        }
      ]
    },
    {
      "cell_type": "code",
      "source": [
        "#Trainig the functional model using new weights and bias\n",
        "functional_model.compile(optimizer='sgd',loss='binary_crossentropy',metrics=['accuracy'])"
      ],
      "metadata": {
        "id": "uqa9SIG_5drg"
      },
      "execution_count": 51,
      "outputs": []
    },
    {
      "cell_type": "code",
      "source": [
        "mycallback=keras.callbacks.EarlyStopping(monitor = 'loss', mode = 'min', patience = 5, min_delta = 0.001)"
      ],
      "metadata": {
        "id": "ga9MhEGK6gjk"
      },
      "execution_count": 53,
      "outputs": []
    },
    {
      "cell_type": "code",
      "source": [
        "functional_model.fit(x,y,epochs=10000,callbacks=mycallback,verbose=0)"
      ],
      "metadata": {
        "id": "VepWoTJM7O6S",
        "outputId": "94fbc491-74f1-4553-cd6c-7f52a293bbbe",
        "colab": {
          "base_uri": "https://localhost:8080/"
        }
      },
      "execution_count": 55,
      "outputs": [
        {
          "output_type": "execute_result",
          "data": {
            "text/plain": [
              "<keras.callbacks.History at 0x7f0107e5a700>"
            ]
          },
          "metadata": {},
          "execution_count": 55
        }
      ]
    },
    {
      "cell_type": "code",
      "source": [
        "loss,accuracy=functional_model.evaluate(x,y)"
      ],
      "metadata": {
        "id": "vpc5o9hN7umv",
        "outputId": "cb86a52f-db79-4a54-cf26-ba1d9d1e4c4b",
        "colab": {
          "base_uri": "https://localhost:8080/"
        }
      },
      "execution_count": 56,
      "outputs": [
        {
          "output_type": "stream",
          "name": "stdout",
          "text": [
            "1/1 [==============================] - 0s 142ms/step - loss: 0.1023 - accuracy: 1.0000\n"
          ]
        }
      ]
    },
    {
      "cell_type": "code",
      "source": [
        "pred=functional_model.predict(x)\n",
        "pred"
      ],
      "metadata": {
        "id": "10urLaiN71p3",
        "outputId": "6ae93759-eec6-48cd-b94c-b26aca2d57e1",
        "colab": {
          "base_uri": "https://localhost:8080/"
        }
      },
      "execution_count": 57,
      "outputs": [
        {
          "output_type": "stream",
          "name": "stdout",
          "text": [
            "1/1 [==============================] - 0s 57ms/step\n"
          ]
        },
        {
          "output_type": "execute_result",
          "data": {
            "text/plain": [
              "array([[0.27841294],\n",
              "       [0.95565516],\n",
              "       [0.96415246],\n",
              "       [0.999126  ]], dtype=float32)"
            ]
          },
          "metadata": {},
          "execution_count": 57
        }
      ]
    }
  ]
}