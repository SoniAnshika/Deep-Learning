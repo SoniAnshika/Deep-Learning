{
  "nbformat": 4,
  "nbformat_minor": 0,
  "metadata": {
    "colab": {
      "provenance": []
    },
    "kernelspec": {
      "name": "python3",
      "display_name": "Python 3"
    },
    "language_info": {
      "name": "python"
    }
  },
  "cells": [
    {
      "cell_type": "code",
      "execution_count": null,
      "metadata": {
        "id": "_A7HgR4ipO6O"
      },
      "outputs": [],
      "source": [
        "from keras.layers import *\n",
        "import keras \n",
        "import tensorflow as tf\n"
      ]
    },
    {
      "cell_type": "code",
      "source": [
        "funct_model=keras.models.load_model(\"my_saved_model.h5\")"
      ],
      "metadata": {
        "id": "wVt4cfBip16K"
      },
      "execution_count": null,
      "outputs": []
    }
  ]
}